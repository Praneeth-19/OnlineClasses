{
 "cells": [
  {
   "cell_type": "code",
   "execution_count": 7,
   "metadata": {},
   "outputs": [
    {
     "name": "stdout",
     "output_type": "stream",
     "text": [
      "Enter the Start Year : 2000\n",
      "Enter the End Year : 2020\n",
      "2000 2004 2008 2012 2016 2020 "
     ]
    }
   ],
   "source": [
    "from package import isLeapyear \n",
    "s = int(input(\"Enter the Start Year : \"))\n",
    "e = int(input(\"Enter the End Year : \"))\n",
    "for i in range(s,e+1):\n",
    "    if(isLeapyear(i)):\n",
    "        print(i,end=\" \")"
   ]
  },
  {
   "cell_type": "code",
   "execution_count": 9,
   "metadata": {},
   "outputs": [
    {
     "name": "stdout",
     "output_type": "stream",
     "text": [
      "Enter the range : 10\n",
      "2 3 5 7 "
     ]
    }
   ],
   "source": [
    "from package import isPrime\n",
    "e = int(input(\"Enter the range : \"))\n",
    "for i in range(2,e+1):\n",
    "    if(isPrime(i)):\n",
    "        print(i,end=\" \")"
   ]
  },
  {
   "cell_type": "code",
   "execution_count": 12,
   "metadata": {},
   "outputs": [
    {
     "data": {
      "text/plain": [
       "120"
      ]
     },
     "execution_count": 12,
     "metadata": {},
     "output_type": "execute_result"
    }
   ],
   "source": [
    "# create recursive function for factorial\n",
    "def fact(n):\n",
    "    if(n==0):\n",
    "        return 1\n",
    "    else:\n",
    "        return n*fact(n-1)\n",
    "fact(5)"
   ]
  },
  {
   "cell_type": "code",
   "execution_count": 14,
   "metadata": {},
   "outputs": [
    {
     "name": "stdout",
     "output_type": "stream",
     "text": [
      "Contact chaitu is Added\n"
     ]
    }
   ],
   "source": [
    "## Contacts using dictionary\n",
    "contacts={}\n",
    "def addContacts(name,phone):\n",
    "    if name not in contacts:\n",
    "        contacts[name]=phone\n",
    "        print(\"Contact %s is Added\" %name)\n",
    "    else:\n",
    "        print(\"Contact %s is already exist\" % name)\n",
    "        print(contacts)\n",
    "addContacts(\"chaitu\",9876543210)\n",
    "    "
   ]
  },
  {
   "cell_type": "code",
   "execution_count": 15,
   "metadata": {},
   "outputs": [
    {
     "data": {
      "text/plain": [
       "{'chaitu': 9876543210}"
      ]
     },
     "execution_count": 15,
     "metadata": {},
     "output_type": "execute_result"
    }
   ],
   "source": [
    "contacts"
   ]
  },
  {
   "cell_type": "code",
   "execution_count": 17,
   "metadata": {},
   "outputs": [
    {
     "name": "stdout",
     "output_type": "stream",
     "text": [
      "Contact aitam is Added\n"
     ]
    }
   ],
   "source": [
    "addContacts(\"aitam\",123456789)"
   ]
  },
  {
   "cell_type": "code",
   "execution_count": 18,
   "metadata": {},
   "outputs": [
    {
     "data": {
      "text/plain": [
       "{'chaitu': 9876543210, 'aitam': 123456789}"
      ]
     },
     "execution_count": 18,
     "metadata": {},
     "output_type": "execute_result"
    }
   ],
   "source": [
    "contacts"
   ]
  },
  {
   "cell_type": "code",
   "execution_count": 19,
   "metadata": {},
   "outputs": [
    {
     "name": "stdout",
     "output_type": "stream",
     "text": [
      "Contact aitam is already exist\n",
      "{'chaitu': 9876543210, 'aitam': 123456789}\n"
     ]
    }
   ],
   "source": [
    "addContacts(\"aitam\",8106410134)"
   ]
  },
  {
   "cell_type": "code",
   "execution_count": 20,
   "metadata": {},
   "outputs": [
    {
     "name": "stdout",
     "output_type": "stream",
     "text": [
      "aitam : 123456789\n"
     ]
    }
   ],
   "source": [
    "def searchContact(name):\n",
    "    if name in contacts:\n",
    "        print(name,':',contacts[name])\n",
    "    else:\n",
    "        print(\"%s does not exists\" %name)\n",
    "searchContact(\"aitam\")"
   ]
  },
  {
   "cell_type": "code",
   "execution_count": 21,
   "metadata": {},
   "outputs": [
    {
     "name": "stdout",
     "output_type": "stream",
     "text": [
      "college does not exists\n"
     ]
    }
   ],
   "source": [
    "searchContact(\"college\")"
   ]
  },
  {
   "cell_type": "code",
   "execution_count": 28,
   "metadata": {},
   "outputs": [
    {
     "name": "stdout",
     "output_type": "stream",
     "text": [
      "college is updated\n"
     ]
    }
   ],
   "source": [
    "import re\n",
    "pattern = \"^[+][9][1][6-9][0-9]{9}$|^[0][6-9][0-9]{9}$|^[6-9][0-9]{9}$\"\n",
    "def updateContact(name,number):\n",
    "    if name in contacts:\n",
    "        if re.match(pattern,str(number)):\n",
    "            contacts[name]=number\n",
    "            print(\"%s is updated\" %name)\n",
    "        else:\n",
    "            print(\"Not a valid number\")\n",
    "    else:\n",
    "        if re.match(pattern,str(number)):\n",
    "            contacts[name]=number\n",
    "            print(\"%s is created\" %name)\n",
    "        else:\n",
    "            print(\"Not a valid number\")\n",
    "updateContact(\"college\",7894561230)"
   ]
  },
  {
   "cell_type": "code",
   "execution_count": 23,
   "metadata": {},
   "outputs": [
    {
     "data": {
      "text/plain": [
       "{'chaitu': 9876543210, 'aitam': 123456789, 'college': 7894561230}"
      ]
     },
     "execution_count": 23,
     "metadata": {},
     "output_type": "execute_result"
    }
   ],
   "source": [
    "contacts"
   ]
  },
  {
   "cell_type": "code",
   "execution_count": 24,
   "metadata": {},
   "outputs": [
    {
     "name": "stdout",
     "output_type": "stream",
     "text": [
      "chaitu is updated\n"
     ]
    }
   ],
   "source": [
    "updateContact(\"chaitu\",8106410134)"
   ]
  },
  {
   "cell_type": "code",
   "execution_count": 25,
   "metadata": {},
   "outputs": [
    {
     "data": {
      "text/plain": [
       "{'chaitu': 8106410134, 'aitam': 123456789, 'college': 7894561230}"
      ]
     },
     "execution_count": 25,
     "metadata": {},
     "output_type": "execute_result"
    }
   ],
   "source": [
    "contacts"
   ]
  },
  {
   "cell_type": "code",
   "execution_count": 31,
   "metadata": {},
   "outputs": [
    {
     "name": "stdout",
     "output_type": "stream",
     "text": [
      "python is created\n"
     ]
    }
   ],
   "source": [
    "updateContact(\"python\",9876543210)"
   ]
  },
  {
   "cell_type": "code",
   "execution_count": 32,
   "metadata": {},
   "outputs": [
    {
     "data": {
      "text/plain": [
       "{'chaitu': 8106410134,\n",
       " 'aitam': 123456789,\n",
       " 'college': 7894561230,\n",
       " 'python': 9876543210}"
      ]
     },
     "execution_count": 32,
     "metadata": {},
     "output_type": "execute_result"
    }
   ],
   "source": [
    "contacts"
   ]
  },
  {
   "cell_type": "code",
   "execution_count": 59,
   "metadata": {},
   "outputs": [
    {
     "name": "stdout",
     "output_type": "stream",
     "text": [
      "Enter any Option from below:\n",
      " 1.Rock\n",
      " 2.Paper\n",
      " 3.Scissor\n",
      "3\n",
      "Game is Draw!!! Becoz Computer Selected  Scissor you Selected  Scissor\n"
     ]
    }
   ],
   "source": [
    "# rock,paper\n",
    "# paper,scissor\n",
    "# scissor ,rock\n",
    "import random\n",
    "option = [\"Rock\",\"Paper\",\"Scissor\"]\n",
    "co = random.randint(0,2)\n",
    "print(\"Enter any Option from below:\\n 1.Rock\\n 2.Paper\\n 3.Scissor\")\n",
    "uo=int(input())\n",
    "if(uo>3 or uo<0):\n",
    "    print(\"Invalid Option\")\n",
    "else:\n",
    "    u=uo-1\n",
    "    if(co==u):\n",
    "        print(\"Game is Draw!!! Becoz Computer Selected \",option[co],\"you Selected \",option[u])\n",
    "    elif(co==0 and u==1) or (co==1 and u==2) or (co==2 and u==0):\n",
    "        print(\"You won!!! Becoz Computer Selected \",option[co],\"you Selected \",option[u])\n",
    "    else:\n",
    "        print(\"You Lost!!! Becoz Computer Selected \",option[co],\"you Selected \",option[u])"
   ]
  },
  {
   "cell_type": "code",
   "execution_count": null,
   "metadata": {},
   "outputs": [],
   "source": [
    "## list comprehensions\n",
    "## file Comprehensions\n",
    "## Lamba,Map,Filters\n",
    "## encryption \n",
    "## generators and iterators\n"
   ]
  },
  {
   "cell_type": "code",
   "execution_count": null,
   "metadata": {},
   "outputs": [],
   "source": []
  }
 ],
 "metadata": {
  "kernelspec": {
   "display_name": "Python 3",
   "language": "python",
   "name": "python3"
  },
  "language_info": {
   "codemirror_mode": {
    "name": "ipython",
    "version": 3
   },
   "file_extension": ".py",
   "mimetype": "text/x-python",
   "name": "python",
   "nbconvert_exporter": "python",
   "pygments_lexer": "ipython3",
   "version": "3.7.3"
  }
 },
 "nbformat": 4,
 "nbformat_minor": 2
}
