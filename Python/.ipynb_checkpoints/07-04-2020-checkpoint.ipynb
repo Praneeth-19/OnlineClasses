{
 "cells": [
  {
   "cell_type": "markdown",
   "metadata": {},
   "source": [
    "## Regular Expressions"
   ]
  },
  {
   "cell_type": "code",
   "execution_count": 2,
   "metadata": {},
   "outputs": [
    {
     "name": "stdout",
     "output_type": "stream",
     "text": [
      "Enter your number : 0123456789\n",
      "invalid number\n"
     ]
    }
   ],
   "source": [
    "## Number should be 10 digits,its should starts with 6 to 9,it should accept 0,+91\n",
    "import re\n",
    "pattern = \"^[+][9][1][6-9][0-9]{9}$|^[0][6-9][0-9]{9}$|^[6-9][0-9]{9}$\"\n",
    "num = int(input(\"Enter your number : \"))\n",
    "if re.match(pattern,str(num)):\n",
    "    print(\"Valid Number\")\n",
    "else:\n",
    "    print(\"invalid number\")"
   ]
  },
  {
   "cell_type": "code",
   "execution_count": 5,
   "metadata": {},
   "outputs": [
    {
     "name": "stdout",
     "output_type": "stream",
     "text": [
      "got it\n"
     ]
    }
   ],
   "source": [
    "import re\n",
    "p= \"this is python class.Python is a powerful language\"\n",
    "if re.search(\"python\",p):\n",
    "    print(\"got it\")\n",
    "else:\n",
    "    print(\"Ohhh no\")"
   ]
  },
  {
   "cell_type": "code",
   "execution_count": 1,
   "metadata": {},
   "outputs": [
    {
     "name": "stdout",
     "output_type": "stream",
     "text": [
      "2020\n",
      "2020  is leap year\n"
     ]
    }
   ],
   "source": [
    "import pack as p\n",
    "y = int(input())\n",
    "if(p.isLeapyear(y)):\n",
    "    print(y,\" is leap year\")\n",
    "else:\n",
    "    print(y,\" is not a leap year\")\n"
   ]
  },
  {
   "cell_type": "code",
   "execution_count": 12,
   "metadata": {},
   "outputs": [],
   "source": [
    "import pack as p\n"
   ]
  },
  {
   "cell_type": "code",
   "execution_count": 11,
   "metadata": {},
   "outputs": [
    {
     "data": {
      "text/plain": [
       "True"
      ]
     },
     "execution_count": 11,
     "metadata": {},
     "output_type": "execute_result"
    }
   ],
   "source": [
    "p."
   ]
  },
  {
   "cell_type": "code",
   "execution_count": null,
   "metadata": {},
   "outputs": [],
   "source": [
    "p."
   ]
  }
 ],
 "metadata": {
  "kernelspec": {
   "display_name": "Python 3",
   "language": "python",
   "name": "python3"
  },
  "language_info": {
   "codemirror_mode": {
    "name": "ipython",
    "version": 3
   },
   "file_extension": ".py",
   "mimetype": "text/x-python",
   "name": "python",
   "nbconvert_exporter": "python",
   "pygments_lexer": "ipython3",
   "version": "3.7.3"
  }
 },
 "nbformat": 4,
 "nbformat_minor": 2
}
