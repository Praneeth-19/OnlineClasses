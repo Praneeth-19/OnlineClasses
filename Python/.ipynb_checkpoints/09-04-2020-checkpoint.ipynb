{
 "cells": [
  {
   "cell_type": "markdown",
   "metadata": {},
   "source": [
    "``` \n",
    "    1    2     3    4     5    6   7\n",
    "      8    9   10   11  12  13 14\n",
    "     15  16   17   18  19  20 21\n",
    "     22  23   24   25  26  27 28 \n",
    "     29  30   31 \n",
    "\n",
    "Print this format first(like calendar) complete below:\n",
    "    • print all numbers above 21 as ##\n",
    "    • print all even numbers as **\n",
    "    • print all odd numbers below 22 as ||\n",
    "    • print complete second row as {}\n",
    "    • print complete 4 column as []\n",
    "```"
   ]
  },
  {
   "cell_type": "code",
   "execution_count": 3,
   "metadata": {},
   "outputs": [
    {
     "name": "stdout",
     "output_type": "stream",
     "text": [
      " 1  2  3  4  5  6  7 \n",
      " 8  9 10 11 12 13 14 \n",
      "15 16 17 18 19 20 21 \n",
      "22 23 24 25 26 27 28 \n",
      "29 30 31 \n"
     ]
    }
   ],
   "source": [
    "a=0\n",
    "for i in range(1,6):\n",
    "    for j in range(1,8):\n",
    "        a+=1\n",
    "        if(a>31):\n",
    "            break\n",
    "        else:\n",
    "            print(\"{:2}\".format(a),end=\" \")\n",
    "    print(end=\"\\n\")        "
   ]
  },
  {
   "cell_type": "code",
   "execution_count": 11,
   "metadata": {},
   "outputs": [
    {
     "name": "stdout",
     "output_type": "stream",
     "text": [
      "|| ** || [] || ** || \n",
      "{} {} {} [] {} {} {} \n",
      "|| ** || [] || ** || \n",
      "## ## ## [] ## ## ## \n",
      "## ## ## \n"
     ]
    }
   ],
   "source": [
    "a=0\n",
    "for i in range(1,6):\n",
    "    for j in range(1,8):\n",
    "        a+=1\n",
    "        if(a>31):\n",
    "            break\n",
    "        elif(j==4):\n",
    "            print(\"{:2}\".format(\"[]\"),end=\" \")\n",
    "        elif(a>21):\n",
    "            print(\"{:2}\".format(\"##\"),end=\" \")\n",
    "        elif(i==2):\n",
    "            print(\"{:2}\".format(\"{}\"),end=\" \")\n",
    "        elif(a%2==0):\n",
    "            print(\"{:2}\".format(\"**\"),end=\" \")\n",
    "        elif(a%2!=0):\n",
    "            print(\"{:2}\".format(\"||\"),end=\" \")\n",
    "    print(end=\"\\n\")  "
   ]
  },
  {
   "cell_type": "markdown",
   "metadata": {},
   "source": [
    "```\n",
    "*****\n",
    "*   *\n",
    "*   *\n",
    "*   *\n",
    "*****\n",
    "```"
   ]
  },
  {
   "cell_type": "markdown",
   "metadata": {},
   "source": [
    "## Functional Programming\n",
    "    . List Comprehension,File Comprehension\n",
    "    . Iterators\n",
    "    . Generators\n",
    "    . Maps,Filters,Lambda"
   ]
  },
  {
   "cell_type": "code",
   "execution_count": 15,
   "metadata": {},
   "outputs": [
    {
     "name": "stdout",
     "output_type": "stream",
     "text": [
      "[1, 2, 3, 4, 5, 6, 7, 8, 9]\n"
     ]
    }
   ],
   "source": [
    "## List Comprehension\n",
    "li=[]\n",
    "for i in range(1,10):\n",
    "    li.append(i)\n",
    "print(li)"
   ]
  },
  {
   "cell_type": "code",
   "execution_count": 16,
   "metadata": {},
   "outputs": [
    {
     "name": "stdout",
     "output_type": "stream",
     "text": [
      "[1, 2, 3, 4, 5, 6, 7, 8, 9]\n"
     ]
    }
   ],
   "source": [
    "print([i for i in range(1,10)])"
   ]
  },
  {
   "cell_type": "code",
   "execution_count": 20,
   "metadata": {},
   "outputs": [
    {
     "name": "stdout",
     "output_type": "stream",
     "text": [
      "['This', 'is', 'a', 'python', 'session', 'This', 'session', 'is', 'for', 'aitam', 'students']\n"
     ]
    }
   ],
   "source": [
    "## File Comprehension\n",
    "li=[]\n",
    "with open(\"file.txt\",'r') as f:\n",
    "    fr=f.readlines()\n",
    "    for s in fr:\n",
    "        for w in s.split():\n",
    "            li.append(w)\n",
    "    print(li)\n",
    "            "
   ]
  },
  {
   "cell_type": "code",
   "execution_count": 22,
   "metadata": {},
   "outputs": [
    {
     "name": "stdout",
     "output_type": "stream",
     "text": [
      "['This', 'is', 'a', 'python', 'session', 'This', 'session', 'is', 'for', 'aitam', 'students']\n"
     ]
    }
   ],
   "source": [
    "with open(\"file.txt\",'r') as f:\n",
    "    fr=f.readlines()\n",
    "    print([w for s in fr for w in s.split()])"
   ]
  },
  {
   "cell_type": "code",
   "execution_count": 27,
   "metadata": {},
   "outputs": [
    {
     "name": "stdout",
     "output_type": "stream",
     "text": [
      "P\n",
      "y\n",
      "t\n",
      "h\n",
      "o\n",
      "n\n"
     ]
    }
   ],
   "source": [
    "## Iterators \n",
    "s=iter(\"Python\")\n",
    "print(next(s))\n",
    "print(next(s))\n",
    "print(next(s))\n",
    "print(next(s))\n",
    "print(next(s))\n",
    "print(next(s))"
   ]
  },
  {
   "cell_type": "code",
   "execution_count": 29,
   "metadata": {},
   "outputs": [
    {
     "name": "stdout",
     "output_type": "stream",
     "text": [
      "c\n"
     ]
    }
   ],
   "source": [
    "sub=[\"c\",\"java\",\"python\"]\n",
    "r=iter(sub)\n",
    "print(next(r))"
   ]
  },
  {
   "cell_type": "code",
   "execution_count": 30,
   "metadata": {},
   "outputs": [
    {
     "name": "stdout",
     "output_type": "stream",
     "text": [
      "java\n"
     ]
    }
   ],
   "source": [
    "print(next(r))"
   ]
  },
  {
   "cell_type": "code",
   "execution_count": 31,
   "metadata": {},
   "outputs": [
    {
     "name": "stdout",
     "output_type": "stream",
     "text": [
      "python\n"
     ]
    }
   ],
   "source": [
    "print(next(r))"
   ]
  },
  {
   "cell_type": "code",
   "execution_count": 46,
   "metadata": {},
   "outputs": [
    {
     "name": "stdout",
     "output_type": "stream",
     "text": [
      "4\n",
      "16\n",
      "256\n",
      "65536\n",
      "4294967296\n",
      "18446744073709551616\n"
     ]
    }
   ],
   "source": [
    "## Generators\n",
    "def gen():\n",
    "    n=2\n",
    "    while True:\n",
    "        n = n ** 2\n",
    "        yield n\n",
    "a=gen()\n",
    "for i in range(6):\n",
    "    print(next(a))"
   ]
  },
  {
   "cell_type": "code",
   "execution_count": null,
   "metadata": {},
   "outputs": [],
   "source": []
  }
 ],
 "metadata": {
  "kernelspec": {
   "display_name": "Python 3",
   "language": "python",
   "name": "python3"
  },
  "language_info": {
   "codemirror_mode": {
    "name": "ipython",
    "version": 3
   },
   "file_extension": ".py",
   "mimetype": "text/x-python",
   "name": "python",
   "nbconvert_exporter": "python",
   "pygments_lexer": "ipython3",
   "version": "3.7.3"
  }
 },
 "nbformat": 4,
 "nbformat_minor": 2
}
